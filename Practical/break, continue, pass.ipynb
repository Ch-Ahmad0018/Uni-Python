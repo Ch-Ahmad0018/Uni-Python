{
 "cells": [
  {
   "cell_type": "code",
   "execution_count": 1,
   "id": "362a020a",
   "metadata": {},
   "outputs": [
    {
     "name": "stdout",
     "output_type": "stream",
     "text": [
      "0\n",
      "1\n",
      "2\n",
      "3\n",
      "4\n",
      "5\n",
      "hello\n"
     ]
    }
   ],
   "source": [
    "#loop contron statements \n",
    "#break, continue, pass\n",
    "#break\n",
    "\n",
    "for i in range(20):\n",
    "    print(i)\n",
    "    if i == 5:\n",
    "        break;\n",
    "print('hello')\n",
    "        "
   ]
  },
  {
   "cell_type": "code",
   "execution_count": 3,
   "id": "9f3743ae",
   "metadata": {},
   "outputs": [
    {
     "name": "stdout",
     "output_type": "stream",
     "text": [
      "Z\n",
      "o\n",
      "b\n",
      "a\n",
      "hello\n"
     ]
    }
   ],
   "source": [
    "#break statement with string\n",
    "\n",
    "for i in 'Zobair':\n",
    "    print(i)\n",
    "    if i == 'a':\n",
    "        break;\n",
    "print('hello')\n"
   ]
  },
  {
   "cell_type": "code",
   "execution_count": 8,
   "id": "2331ea02",
   "metadata": {},
   "outputs": [
    {
     "name": "stdout",
     "output_type": "stream",
     "text": [
      "Z\n",
      "pakistan\n",
      "o\n",
      "pakistan\n",
      "b\n",
      "pakistan\n",
      "i\n",
      "pakistan\n",
      "r\n",
      "pakistan\n"
     ]
    }
   ],
   "source": [
    "#continue\n",
    "for i in 'Zobair':\n",
    "    if i == 'a':\n",
    "        continue;\n",
    "    print(i)\n",
    "    print('pakistan')\n",
    "        \n"
   ]
  },
  {
   "cell_type": "code",
   "execution_count": 12,
   "id": "495c5bd1",
   "metadata": {},
   "outputs": [
    {
     "ename": "SyntaxError",
     "evalue": "incomplete input (81368128.py, line 3)",
     "output_type": "error",
     "traceback": [
      "\u001b[1;36m  Cell \u001b[1;32mIn[12], line 3\u001b[1;36m\u001b[0m\n\u001b[1;33m    \u001b[0m\n\u001b[1;37m    ^\u001b[0m\n\u001b[1;31mSyntaxError\u001b[0m\u001b[1;31m:\u001b[0m incomplete input\n"
     ]
    }
   ],
   "source": [
    "#pass statement\n",
    "for i in 'zohaib':\n",
    " "
   ]
  },
  {
   "cell_type": "code",
   "execution_count": 7,
   "id": "63ee4ba4",
   "metadata": {},
   "outputs": [],
   "source": [
    "#pass statement\n",
    "for i in 'zohaib':\n",
    "    pass"
   ]
  },
  {
   "cell_type": "code",
   "execution_count": 12,
   "id": "bf50c4f2",
   "metadata": {},
   "outputs": [
    {
     "name": "stdout",
     "output_type": "stream",
     "text": [
      "1\n",
      "2\n",
      "3\n",
      "4\n",
      "5\n"
     ]
    }
   ],
   "source": [
    "#pass statement\n",
    "#no operation performed but interpreter read these lines of code \n",
    "for i in range(1,6):\n",
    "    print(i)\n",
    "    "
   ]
  },
  {
   "cell_type": "code",
   "execution_count": null,
   "id": "f28664bc",
   "metadata": {},
   "outputs": [],
   "source": []
  }
 ],
 "metadata": {
  "kernelspec": {
   "display_name": "Python 3 (ipykernel)",
   "language": "python",
   "name": "python3"
  },
  "language_info": {
   "codemirror_mode": {
    "name": "ipython",
    "version": 3
   },
   "file_extension": ".py",
   "mimetype": "text/x-python",
   "name": "python",
   "nbconvert_exporter": "python",
   "pygments_lexer": "ipython3",
   "version": "3.11.5"
  }
 },
 "nbformat": 4,
 "nbformat_minor": 5
}
