{
 "cells": [
  {
   "cell_type": "code",
   "execution_count": 8,
   "id": "a1c84d27",
   "metadata": {},
   "outputs": [
    {
     "name": "stdout",
     "output_type": "stream",
     "text": [
      "Result: 15\n"
     ]
    }
   ],
   "source": [
    "# Arithmetic operations\n",
    "# Addition\n",
    "num1 = 10\n",
    "num2 = 5\n",
    "\n",
    "\n",
    "result = num1 + num2\n",
    "print(\"Result:\", result)\n",
    "\n"
   ]
  },
  {
   "cell_type": "code",
   "execution_count": 9,
   "id": "3a3128a0",
   "metadata": {},
   "outputs": [
    {
     "name": "stdout",
     "output_type": "stream",
     "text": [
      "result: 50\n"
     ]
    }
   ],
   "source": [
    "#multiplication\n",
    "num1 = 10\n",
    "num2 = 5\n",
    "\n",
    "\n",
    "result = num1 * num2\n",
    "print(\"result:\", result)"
   ]
  },
  {
   "cell_type": "code",
   "execution_count": 26,
   "id": "5f2d0a68",
   "metadata": {},
   "outputs": [
    {
     "name": "stdout",
     "output_type": "stream",
     "text": [
      "Result 5\n"
     ]
    }
   ],
   "source": [
    "#subtraction\n",
    "result = num1 - num2 \n",
    "print(\"Result\", result)"
   ]
  },
  {
   "cell_type": "code",
   "execution_count": 16,
   "id": "29ba38d0",
   "metadata": {},
   "outputs": [
    {
     "name": "stdout",
     "output_type": "stream",
     "text": [
      "Result: 2.0\n"
     ]
    }
   ],
   "source": [
    "num1 = 10\n",
    "num2 = 5\n",
    "#float division \n",
    "division_result = num1 / num2 \n",
    "print(\"Result:\", division_result)"
   ]
  },
  {
   "cell_type": "code",
   "execution_count": 11,
   "id": "f36d229e",
   "metadata": {},
   "outputs": [
    {
     "name": "stdout",
     "output_type": "stream",
     "text": [
      "Result: 2\n"
     ]
    }
   ],
   "source": [
    "#intergar division\n",
    "num1 = 10\n",
    "num2 = 5\n",
    "\n",
    "result = num1 // num2\n",
    "print(\"Result:\", result)"
   ]
  },
  {
   "cell_type": "code",
   "execution_count": 17,
   "id": "28ba6ac3",
   "metadata": {},
   "outputs": [
    {
     "name": "stdout",
     "output_type": "stream",
     "text": [
      "Rounded Result: 2.0\n"
     ]
    }
   ],
   "source": [
    "# Round\n",
    "result = round(division_result, 2)\n",
    "print(\"Rounded Result:\", rounded_result)"
   ]
  },
  {
   "cell_type": "code",
   "execution_count": 18,
   "id": "a1531f1f",
   "metadata": {},
   "outputs": [
    {
     "name": "stdout",
     "output_type": "stream",
     "text": [
      "result 2\n"
     ]
    }
   ],
   "source": [
    "# Round \n",
    "result = round(2.46)\n",
    "print(\"result\", result)"
   ]
  },
  {
   "cell_type": "code",
   "execution_count": 19,
   "id": "43f5d128",
   "metadata": {},
   "outputs": [
    {
     "name": "stdout",
     "output_type": "stream",
     "text": [
      "lcm Result: 10\n"
     ]
    }
   ],
   "source": [
    "# lcm \n",
    "lcm_result = math.lcm(num1, num2)\n",
    "print(\"lcm Result:\", lcm_result)"
   ]
  },
  {
   "cell_type": "code",
   "execution_count": 21,
   "id": "c98f9e5d",
   "metadata": {},
   "outputs": [
    {
     "name": "stdout",
     "output_type": "stream",
     "text": [
      "Result 3.141592653589793\n"
     ]
    }
   ],
   "source": [
    "# pi\n",
    "result = math.pi\n",
    "print(\"Result\", result)"
   ]
  },
  {
   "cell_type": "code",
   "execution_count": 23,
   "id": "637d1553",
   "metadata": {},
   "outputs": [
    {
     "name": "stdout",
     "output_type": "stream",
     "text": [
      "comparison False\n"
     ]
    }
   ],
   "source": [
    "# comparison \n",
    "print(\"comparison\", num1 < num2)"
   ]
  },
  {
   "cell_type": "code",
   "execution_count": 24,
   "id": "a570904c",
   "metadata": {},
   "outputs": [
    {
     "name": "stdout",
     "output_type": "stream",
     "text": [
      "Result True\n"
     ]
    }
   ],
   "source": [
    "# Logical OR\n",
    "result = (num1 < num2) or (num1 > num2)\n",
    "print(\"Result\", result)"
   ]
  },
  {
   "cell_type": "code",
   "execution_count": 25,
   "id": "2533fcd9",
   "metadata": {},
   "outputs": [
    {
     "name": "stdout",
     "output_type": "stream",
     "text": [
      "Result False\n"
     ]
    }
   ],
   "source": [
    "# Logical AND\n",
    "result =(num1 < num2) and (num1 > num2)\n",
    "print(\"Result\", result)"
   ]
  },
  {
   "cell_type": "code",
   "execution_count": null,
   "id": "99bdb212",
   "metadata": {},
   "outputs": [],
   "source": []
  }
 ],
 "metadata": {
  "kernelspec": {
   "display_name": "Python 3 (ipykernel)",
   "language": "python",
   "name": "python3"
  },
  "language_info": {
   "codemirror_mode": {
    "name": "ipython",
    "version": 3
   },
   "file_extension": ".py",
   "mimetype": "text/x-python",
   "name": "python",
   "nbconvert_exporter": "python",
   "pygments_lexer": "ipython3",
   "version": "3.11.5"
  }
 },
 "nbformat": 4,
 "nbformat_minor": 5
}
