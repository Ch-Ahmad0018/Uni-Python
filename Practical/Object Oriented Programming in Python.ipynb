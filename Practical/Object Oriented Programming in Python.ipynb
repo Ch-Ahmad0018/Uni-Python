{
 "cells": [
  {
   "cell_type": "code",
   "execution_count": null,
   "id": "ef760359",
   "metadata": {},
   "outputs": [],
   "source": [
    "#oop in python"
   ]
  },
  {
   "cell_type": "code",
   "execution_count": null,
   "id": "091f90b2",
   "metadata": {},
   "outputs": [],
   "source": [
    "#classes & objects "
   ]
  },
  {
   "cell_type": "code",
   "execution_count": 6,
   "id": "f553b099",
   "metadata": {},
   "outputs": [
    {
     "name": "stdout",
     "output_type": "stream",
     "text": [
      "10\n",
      "50\n"
     ]
    }
   ],
   "source": [
    "class OriginalClass:\n",
    "    a=10\n",
    "    \n",
    "    def sumvalue(self):\n",
    "        print(20+30)\n",
    "    \n",
    "obj=OriginalClass()\n",
    "print(obj.a)\n",
    "obj.sumvalue();"
   ]
  },
  {
   "cell_type": "code",
   "execution_count": null,
   "id": "5cc6aa49",
   "metadata": {},
   "outputs": [],
   "source": [
    "#methods with self argument"
   ]
  },
  {
   "cell_type": "code",
   "execution_count": null,
   "id": "9bf0fa9b",
   "metadata": {},
   "outputs": [
    {
     "ename": "",
     "evalue": "",
     "output_type": "error",
     "traceback": [
      "\u001b[1;31mRunning cells with 'c:\\Users\\User\\AppData\\Local\\Programs\\Python\\Python312\\python.exe' requires the ipykernel package.\n",
      "\u001b[1;31mRun the following command to install 'ipykernel' into the Python environment. \n",
      "\u001b[1;31mCommand: 'c:/Users/User/AppData/Local/Programs/Python/Python312/python.exe -m pip install ipykernel -U --user --force-reinstall'"
     ]
    }
   ],
   "source": [
    "class OriginalClass:\n",
    "    a=10\n",
    "    def showvalue(self):\n",
    "        print(OriginalClass.aa)\n",
    "    \n",
    "obj=OriginalClass()\n",
    "obj.showvalue()"
   ]
  },
  {
   "cell_type": "code",
   "execution_count": 13,
   "id": "bb791e29",
   "metadata": {},
   "outputs": [
    {
     "name": "stdout",
     "output_type": "stream",
     "text": [
      "10\n"
     ]
    }
   ],
   "source": [
    "class OriginalClass:\n",
    "    a=10\n",
    "    def showvalue(self):\n",
    "        print(self.a)\n",
    "    \n",
    "obj=OriginalClass()\n",
    "obj.showvalue()"
   ]
  },
  {
   "cell_type": "code",
   "execution_count": 14,
   "id": "7f8bc6b0",
   "metadata": {},
   "outputs": [
    {
     "name": "stdout",
     "output_type": "stream",
     "text": [
      "10\n",
      "Hello world\n"
     ]
    }
   ],
   "source": [
    "class OriginalClass:\n",
    "    a=10\n",
    "    def showvalue(self):\n",
    "        print(self.a)\n",
    "    def showvalue1(self):\n",
    "        print(\"Hello world\")\n",
    "    \n",
    "obj=OriginalClass()\n",
    "obj.showvalue()\n",
    "obj.showvalue1()"
   ]
  },
  {
   "cell_type": "code",
   "execution_count": null,
   "id": "63ca2078",
   "metadata": {},
   "outputs": [],
   "source": [
    "#method and constructor"
   ]
  },
  {
   "cell_type": "code",
   "execution_count": 15,
   "id": "8ed9fb34",
   "metadata": {},
   "outputs": [
    {
     "name": "stdout",
     "output_type": "stream",
     "text": [
      "welcome to pakistan\n",
      "10\n",
      "Hello world\n"
     ]
    }
   ],
   "source": [
    "class OriginalClass:\n",
    "    a=10\n",
    "    def __init__(self): #no need to call constructor\n",
    "        print(\"welcome to pakistan\")\n",
    "    def showvalue(self):\n",
    "        print(self.a)\n",
    "    def showvalue1(self):\n",
    "        print(\"Hello world\")\n",
    "    \n",
    "obj=OriginalClass()\n",
    "obj.showvalue()\n",
    "obj.showvalue1()"
   ]
  },
  {
   "cell_type": "code",
   "execution_count": null,
   "id": "c399981c",
   "metadata": {},
   "outputs": [],
   "source": [
    "#Inheritance in python"
   ]
  },
  {
   "cell_type": "code",
   "execution_count": 16,
   "id": "a3e4cbe5",
   "metadata": {},
   "outputs": [
    {
     "name": "stdout",
     "output_type": "stream",
     "text": [
      "welcome to pakistan A\n"
     ]
    },
    {
     "ename": "TypeError",
     "evalue": "B.displayB() takes 0 positional arguments but 1 was given",
     "output_type": "error",
     "traceback": [
      "\u001b[1;31m---------------------------------------------------------------------------\u001b[0m",
      "\u001b[1;31mTypeError\u001b[0m                                 Traceback (most recent call last)",
      "Cell \u001b[1;32mIn[16], line 10\u001b[0m\n\u001b[0;32m      8\u001b[0m obj\u001b[38;5;241m=\u001b[39mB()\n\u001b[0;32m      9\u001b[0m obj\u001b[38;5;241m.\u001b[39mdisplayA()\n\u001b[1;32m---> 10\u001b[0m obj\u001b[38;5;241m.\u001b[39mdisplayB()\n",
      "\u001b[1;31mTypeError\u001b[0m: B.displayB() takes 0 positional arguments but 1 was given"
     ]
    }
   ],
   "source": [
    "class A:\n",
    "    def displayA(self):\n",
    "        print(\"welcome to pakistan A\")\n",
    "class B(A):  #inherit A in B class\n",
    "    def displayB(): #error is due to empty funtion\n",
    "        print(\"welcome to pakistan B\")\n",
    "\n",
    "obj=B()\n",
    "obj.displayA()\n",
    "obj.displayB()\n",
    "        "
   ]
  },
  {
   "cell_type": "code",
   "execution_count": 17,
   "id": "b833fcce",
   "metadata": {},
   "outputs": [
    {
     "name": "stdout",
     "output_type": "stream",
     "text": [
      "welcome to pakistan A\n",
      "welcome to pakistan B\n"
     ]
    }
   ],
   "source": [
    "class A:\n",
    "    def displayA(self):\n",
    "        print(\"welcome to pakistan A\")\n",
    "class B(A):  #inherit A in B class\n",
    "    def displayB(self):\n",
    "        print(\"welcome to pakistan B\")\n",
    "\n",
    "obj=B()\n",
    "obj.displayA()\n",
    "obj.displayB()"
   ]
  },
  {
   "cell_type": "code",
   "execution_count": null,
   "id": "8c53bc95",
   "metadata": {},
   "outputs": [],
   "source": [
    "#multilevel inheritance"
   ]
  },
  {
   "cell_type": "code",
   "execution_count": 19,
   "id": "4759a6a1",
   "metadata": {},
   "outputs": [
    {
     "name": "stdout",
     "output_type": "stream",
     "text": [
      "welcome to pakistan A\n",
      "welcome to pakistan B\n",
      "welcome to pakistan C\n"
     ]
    }
   ],
   "source": [
    "class A:\n",
    "    def displayA(self):\n",
    "        print(\"welcome to pakistan A\")\n",
    "class B(A):  #inherit A in B class\n",
    "    def displayB(self):\n",
    "        print(\"welcome to pakistan B\")\n",
    "class C(B):      #multilevel inheritance\n",
    "    def displayC(self):\n",
    "        print(\"welcome to pakistan C\")\n",
    "\n",
    "obj=C()\n",
    "obj.displayA()\n",
    "obj.displayB()\n",
    "obj.displayC()  \n"
   ]
  },
  {
   "cell_type": "code",
   "execution_count": null,
   "id": "fc871228",
   "metadata": {},
   "outputs": [],
   "source": [
    "#multiple inheritance\n",
    "#use c directly from B and A\n",
    "#inherit B,A directly to C"
   ]
  },
  {
   "cell_type": "code",
   "execution_count": 20,
   "id": "2fdd3b69",
   "metadata": {},
   "outputs": [
    {
     "name": "stdout",
     "output_type": "stream",
     "text": [
      "welcome to pakistan A\n",
      "welcome to pakistan B\n",
      "welcome to pakistan C\n"
     ]
    }
   ],
   "source": [
    "class A:\n",
    "    def displayA(self):\n",
    "        print(\"welcome to pakistan A\")\n",
    "class B():  \n",
    "    def displayB(self):\n",
    "        print(\"welcome to pakistan B\")\n",
    "class C(A,B):      #multiple inheritance\n",
    "    def displayC(self):\n",
    "        print(\"welcome to pakistan C\")\n",
    "\n",
    "obj=C()\n",
    "obj.displayA()\n",
    "obj.displayB()\n",
    "obj.displayC()                            \n",
    "                        #only pyhton support multiple inheritance not in java and php"
   ]
  },
  {
   "cell_type": "code",
   "execution_count": null,
   "id": "12326940",
   "metadata": {},
   "outputs": [],
   "source": [
    "#Encapsulation in python\n",
    "#private variable"
   ]
  },
  {
   "cell_type": "code",
   "execution_count": 21,
   "id": "89b936be",
   "metadata": {},
   "outputs": [
    {
     "ename": "AttributeError",
     "evalue": "'student' object has no attribute '__name'",
     "output_type": "error",
     "traceback": [
      "\u001b[1;31m---------------------------------------------------------------------------\u001b[0m",
      "\u001b[1;31mAttributeError\u001b[0m                            Traceback (most recent call last)",
      "Cell \u001b[1;32mIn[21], line 5\u001b[0m\n\u001b[0;32m      2\u001b[0m     __name\u001b[38;5;241m=\u001b[39m\u001b[38;5;124m\"\u001b[39m\u001b[38;5;124mAli\u001b[39m\u001b[38;5;124m\"\u001b[39m   \u001b[38;5;66;03m#private variable cannot accessed directly and start with double underscore mark\u001b[39;00m\n\u001b[0;32m      4\u001b[0m obj\u001b[38;5;241m=\u001b[39mstudent()\n\u001b[1;32m----> 5\u001b[0m \u001b[38;5;28mprint\u001b[39m(obj\u001b[38;5;241m.\u001b[39m__name)\n",
      "\u001b[1;31mAttributeError\u001b[0m: 'student' object has no attribute '__name'"
     ]
    }
   ],
   "source": [
    "class student:\n",
    "    __name=\"Ali\"   #private variable cannot accessed directly and \n",
    "                    #start with double underscore mark\n",
    "    \n",
    "obj=student()\n",
    "print(obj.__name)   #error because private variable is not accessable directly "
   ]
  },
  {
   "cell_type": "code",
   "execution_count": 22,
   "id": "07e6f21a",
   "metadata": {},
   "outputs": [
    {
     "name": "stdout",
     "output_type": "stream",
     "text": [
      "Ali\n"
     ]
    }
   ],
   "source": [
    "class student:\n",
    "    __name=\"Ali\" #private variable cannot accessed directly and start with double underscore mark\n",
    "    def __init__(self):     #it will print name, no need to call the constructor it will call automatically\n",
    "        print(self.__name)\n",
    "    \n",
    "obj=student()\n"
   ]
  },
  {
   "cell_type": "code",
   "execution_count": null,
   "id": "dfc68b61",
   "metadata": {},
   "outputs": [],
   "source": [
    "#private method "
   ]
  },
  {
   "cell_type": "code",
   "execution_count": 23,
   "id": "a4bf9259",
   "metadata": {},
   "outputs": [
    {
     "name": "stdout",
     "output_type": "stream",
     "text": [
      "Ali\n"
     ]
    },
    {
     "ename": "AttributeError",
     "evalue": "'student' object has no attribute '__displayvalue'",
     "output_type": "error",
     "traceback": [
      "\u001b[1;31m---------------------------------------------------------------------------\u001b[0m",
      "\u001b[1;31mAttributeError\u001b[0m                            Traceback (most recent call last)",
      "Cell \u001b[1;32mIn[23], line 9\u001b[0m\n\u001b[0;32m      6\u001b[0m         \u001b[38;5;28mprint\u001b[39m(\u001b[38;5;124m\"\u001b[39m\u001b[38;5;124mHello world\u001b[39m\u001b[38;5;124m\"\u001b[39m)\n\u001b[0;32m      8\u001b[0m obj\u001b[38;5;241m=\u001b[39mstudent()\n\u001b[1;32m----> 9\u001b[0m obj\u001b[38;5;241m.\u001b[39m__displayvalue()\n",
      "\u001b[1;31mAttributeError\u001b[0m: 'student' object has no attribute '__displayvalue'"
     ]
    }
   ],
   "source": [
    "class student:\n",
    "    __name=\"Ali\" #private variable cannot accessed directly and start with double underscore mark\n",
    "    def __init__(self):     #it will print name, no need to call the constructor it will call automatically\n",
    "        print(self.__name)\n",
    "    def __displayvalue(self):   #private funtion cannot accessed directly and start with double underscore mark\n",
    "        print(\"Hello world\")\n",
    "    \n",
    "obj=student()\n",
    "obj.__displayvalue()"
   ]
  },
  {
   "cell_type": "code",
   "execution_count": 29,
   "id": "b2d64ffd",
   "metadata": {},
   "outputs": [
    {
     "name": "stdout",
     "output_type": "stream",
     "text": [
      "Ali\n",
      "Hello world\n"
     ]
    }
   ],
   "source": [
    "class student:\n",
    "    __name=\"Ali\" #private variable cannot accessed directly and start with double underscore mark\n",
    "    def __init__(self):     #it will print name, no need to call the constructor it will call automatically\n",
    "        print(self.__name)\n",
    "        self.__displayvalue()\n",
    "    def __displayvalue(self):   #private funtion cannot accessed directly and start with double underscore mark\n",
    "        print(\"Hello world\")\n",
    "    \n",
    "obj=student()"
   ]
  },
  {
   "cell_type": "code",
   "execution_count": null,
   "id": "e9102899",
   "metadata": {},
   "outputs": [],
   "source": [
    "#Encapsulation"
   ]
  },
  {
   "cell_type": "code",
   "execution_count": null,
   "id": "96d0d13a",
   "metadata": {},
   "outputs": [],
   "source": [
    "#getter & setter method "
   ]
  },
  {
   "cell_type": "code",
   "execution_count": 1,
   "id": "2a8f9444",
   "metadata": {},
   "outputs": [
    {
     "name": "stdout",
     "output_type": "stream",
     "text": [
      "coding in python\n"
     ]
    }
   ],
   "source": [
    "class Student:\n",
    "    def __init__(self):\n",
    "        self.__name=\"\"\n",
    "    def getname(self):\n",
    "        return self.__name\n",
    "    def setname(self, name):\n",
    "        self.__name=name\n",
    "        \n",
    "obj=Student()\n",
    "obj.setname(\"coding in python\")\n",
    "name=obj.getname()\n",
    "print(name) \n",
    "        "
   ]
  },
  {
   "cell_type": "code",
   "execution_count": null,
   "id": "27931601",
   "metadata": {},
   "outputs": [],
   "source": [
    "#polymorphism in python"
   ]
  },
  {
   "cell_type": "code",
   "execution_count": null,
   "id": "ef6be1a0",
   "metadata": {},
   "outputs": [],
   "source": [
    "#method overloading, method overridding"
   ]
  },
  {
   "cell_type": "code",
   "execution_count": null,
   "id": "53ecbc13",
   "metadata": {},
   "outputs": [],
   "source": [
    "#method overloading"
   ]
  },
  {
   "cell_type": "code",
   "execution_count": 31,
   "id": "3b03bd8d",
   "metadata": {},
   "outputs": [
    {
     "name": "stdout",
     "output_type": "stream",
     "text": [
      "4\n",
      "7\n"
     ]
    }
   ],
   "source": [
    "l = [10, 20, 30, 40]\n",
    "print(len(l))\n",
    "s= \"welcome\"\n",
    "print(len(s))    #same method name but different parameters or you may say different datatypes"
   ]
  },
  {
   "cell_type": "code",
   "execution_count": 36,
   "id": "8c33f1f1",
   "metadata": {},
   "outputs": [
    {
     "name": "stdout",
     "output_type": "stream",
     "text": [
      "hello world\n"
     ]
    }
   ],
   "source": [
    "class new():\n",
    "    def displayinfo(self,name=\"\"):\n",
    "        print(\"hello world\" +name)\n",
    "    \n",
    "obj=new()\n",
    "obj.displayinfo()"
   ]
  },
  {
   "cell_type": "code",
   "execution_count": 2,
   "id": "f26f327c",
   "metadata": {},
   "outputs": [
    {
     "name": "stdout",
     "output_type": "stream",
     "text": [
      "hello world \n",
      "hello world python\n"
     ]
    }
   ],
   "source": [
    "class new():\n",
    "    def displayinfo(self,name=\"\"):\n",
    "        print(\"hello world\",name)\n",
    "    \n",
    "obj=new()\n",
    "obj.displayinfo()\n",
    "obj.displayinfo('python')   #same function perform two actions, same function name but different parameters"
   ]
  },
  {
   "cell_type": "code",
   "execution_count": null,
   "id": "ed8b7acc",
   "metadata": {},
   "outputs": [],
   "source": [
    "#method overriding"
   ]
  },
  {
   "cell_type": "code",
   "execution_count": 41,
   "id": "9ada1f9b",
   "metadata": {},
   "outputs": [
    {
     "name": "stdout",
     "output_type": "stream",
     "text": [
      "welcome to India\n"
     ]
    }
   ],
   "source": [
    "class old():\n",
    "    def displayinfo(self):\n",
    "        print(\"welcome to pakistan\")\n",
    "class new(old):\n",
    "    def displayinfo(self):\n",
    "        print(\"welcome to India\")   #child class can overrid the parent class attributes\n",
    "obj=new()\n",
    "obj.displayinfo()"
   ]
  },
  {
   "cell_type": "code",
   "execution_count": null,
   "id": "84cb0ca4",
   "metadata": {},
   "outputs": [],
   "source": [
    "#to call same method of parent and child class, both methods then we use super funtion for this."
   ]
  },
  {
   "cell_type": "code",
   "execution_count": 45,
   "id": "a4b697eb",
   "metadata": {},
   "outputs": [
    {
     "name": "stdout",
     "output_type": "stream",
     "text": [
      "welcome to pakistan\n",
      "welcome to India\n"
     ]
    }
   ],
   "source": [
    "class old():\n",
    "    def displayinfo(self):\n",
    "        print(\"welcome to pakistan\")\n",
    "class new(old):\n",
    "    def displayinfo(self):\n",
    "        super().displayinfo()     #call parent function inside the child class \n",
    "        print(\"welcome to India\")   #child class can overrid the parent class attributes\n",
    "obj=new()\n",
    "obj.displayinfo()"
   ]
  },
  {
   "cell_type": "code",
   "execution_count": null,
   "id": "8310d6be",
   "metadata": {},
   "outputs": [],
   "source": []
  },
  {
   "cell_type": "code",
   "execution_count": null,
   "id": "0e58b9c1",
   "metadata": {},
   "outputs": [],
   "source": []
  }
 ],
 "metadata": {
  "kernelspec": {
   "display_name": "Python 3 (ipykernel)",
   "language": "python",
   "name": "python3"
  },
  "language_info": {
   "codemirror_mode": {
    "name": "ipython",
    "version": 3
   },
   "file_extension": ".py",
   "mimetype": "text/x-python",
   "name": "python",
   "nbconvert_exporter": "python",
   "pygments_lexer": "ipython3",
   "version": "3.12.0"
  }
 },
 "nbformat": 4,
 "nbformat_minor": 5
}
