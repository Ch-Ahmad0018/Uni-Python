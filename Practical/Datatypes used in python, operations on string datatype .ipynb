{
 "cells": [
  {
   "cell_type": "code",
   "execution_count": 7,
   "id": "7bbfcdf9",
   "metadata": {},
   "outputs": [
    {
     "name": "stdout",
     "output_type": "stream",
     "text": [
      "Addition: 13.14\n",
      "Concatenated String: hello world This is a multiline string.\n",
      "\n",
      "Updated List: [1, 2, 3, 4, 'a', 'b', 'c', 'd', 'e']\n",
      "Updated Set: {1, 2, 3, 'c', 'b', 4, 'a'}\n",
      "Updated Tuple: (1, 2, 3, 'a', 'b', 'c', 4, 'd')\n",
      "Updated Dictionary: {'name': 'Ali', 'Age': 25, 'City': 'Karachi', 'Occupation': 'Engineer'}\n",
      "Not operation on boolean: False\n"
     ]
    }
   ],
   "source": [
    "#basic overview and syntax for some common data types while working with python\n",
    "intergar = 10\n",
    "float = 3.14\n",
    "string = \"hello world\"\n",
    "multiline_string = \"\"\"This is a multiline string.\n",
    "\"\"\"\n",
    "#List datatype\n",
    "my_list = [1,2,3,4, 'a', 'b', 'c', 'd']\n",
    "#sets\n",
    "my_set = {1,2,3, 'a', 'b', 'c'}\n",
    "#tuples\n",
    "my_tuples = (1,2,3, 'a', 'b', 'c')\n",
    "#dictionary \n",
    "my_dictionary = {'name': 'Ali', 'Age' : 25, 'City' : 'Karachi'}\n",
    "#booleans\n",
    "bool = True\n",
    "#perform operations on these datatypes \n",
    "\n",
    "# Arithmetic operations\n",
    "result = intergar + float\n",
    "print(\"Addition:\", result)\n",
    "\n",
    "# String concatenation\n",
    "concatenated_string = string + \" \" + multiline_string\n",
    "print(\"Concatenated String:\", concatenated_string)\n",
    "\n",
    "# List operations\n",
    "my_list.append('e')  # Add 'e' to the list\n",
    "print(\"Updated List:\", my_list)\n",
    "\n",
    "# Set operations\n",
    "my_set.add(4)  # Add 4 to the set\n",
    "print(\"Updated Set:\", my_set)\n",
    "\n",
    "# Tuple operations\n",
    "my_tuples += (4, 'd')  # Concatenate a tuple\n",
    "print(\"Updated Tuple:\", my_tuples)\n",
    "\n",
    "# Dictionary operations\n",
    "my_dictionary['Occupation'] = 'Engineer'  # Add a new key-value pair\n",
    "print(\"Updated Dictionary:\", my_dictionary)\n",
    "\n",
    "\n",
    "# Boolean operations\n",
    "not_bool = not bool\n",
    "print(\"Not operation on boolean:\", not_bool)\n",
    "\n",
    "\n"
   ]
  },
  {
   "cell_type": "code",
   "execution_count": 34,
   "id": "052260ee",
   "metadata": {},
   "outputs": [
    {
     "name": "stdout",
     "output_type": "stream",
     "text": [
      "multiplied string: Hello WorldHello World\n",
      "Replaced String: Hello, Python!\n",
      "Replaced String: Goodbye, Python!\n",
      "Concatenating string with integar: Age5.9\n"
     ]
    }
   ],
   "source": [
    "#performing different operations on string, including multiplying the string and replacing.\n",
    "string_value = \"Hello World\" * 2 \n",
    "print(\"multiplied string:\", string_value)\n",
    "\n",
    "#Replace part of the string\n",
    "origninal_string = \"Hello World!\"\n",
    "replacement_string = original_string.replace(\"World\", \"Python\")\n",
    "print(\"Replaced String:\", replacement_string)\n",
    "\n",
    "\n",
    "# Replace both \"Hello\" and \"World\"\n",
    "original_string = \"Hello, World!\"\n",
    "\n",
    "\n",
    "replacement_string = original_string.replace(\"Hello\", \"Goodbye\").replace(\"World\", \"Python\")\n",
    "\n",
    "print(\"Replaced String:\", replacement_string)\n",
    "\n",
    "#concatenating strings with other data types.\n",
    "\n",
    "# Using % for string formatting and concatenation\n",
    "age = 25\n",
    "height = 5.9\n",
    "\n",
    "concatenation = \"Age%s\"%height\n",
    "print(\"Concatenating string with integar:\", concatenation)\n",
    "\n"
   ]
  },
  {
   "cell_type": "code",
   "execution_count": 35,
   "id": "41ebaca5",
   "metadata": {},
   "outputs": [
    {
     "name": "stdout",
     "output_type": "stream",
     "text": [
      "First Character: H\n",
      "Second Character: W\n",
      "Last Character: !\n",
      "Second Last Character: d\n",
      "Substring: World\n"
     ]
    }
   ],
   "source": [
    "#accessing individual characters in a string using indexing.\n",
    "\n",
    "# String indexing example\n",
    "my_string = \"Hello, World!\"\n",
    "\n",
    "# Accessing individual characters\n",
    "first_char = my_string[0]\n",
    "second_char = my_string[7]\n",
    "\n",
    "# Accessing characters using negative indexing\n",
    "last_char = my_string[-1]\n",
    "second_last_char = my_string[-2]\n",
    "\n",
    "# Slicing a portion of the string\n",
    "substring = my_string[7:12]\n",
    "\n",
    "# Displaying the results\n",
    "print(\"First Character:\", first_char)\n",
    "print(\"Second Character:\", second_char)\n",
    "print(\"Last Character:\", last_char)\n",
    "print(\"Second Last Character:\", second_last_char)\n",
    "print(\"Substring:\", substring)\n",
    "\n"
   ]
  },
  {
   "cell_type": "code",
   "execution_count": 38,
   "id": "0950492b",
   "metadata": {},
   "outputs": [
    {
     "name": "stdout",
     "output_type": "stream",
     "text": [
      "Character: B\n",
      "Integer Value: 65\n"
     ]
    }
   ],
   "source": [
    "# Converting character to integer\n",
    "char = 'A'\n",
    "char = 'B'\n",
    "intergar_value = ord(char)\n",
    "print(\"Character:\", char)\n",
    "print(\"Integer Value:\", integer_value)\n"
   ]
  },
  {
   "cell_type": "code",
   "execution_count": null,
   "id": "881e5623",
   "metadata": {},
   "outputs": [],
   "source": []
  }
 ],
 "metadata": {
  "kernelspec": {
   "display_name": "Python 3 (ipykernel)",
   "language": "python",
   "name": "python3"
  },
  "language_info": {
   "codemirror_mode": {
    "name": "ipython",
    "version": 3
   },
   "file_extension": ".py",
   "mimetype": "text/x-python",
   "name": "python",
   "nbconvert_exporter": "python",
   "pygments_lexer": "ipython3",
   "version": "3.11.5"
  }
 },
 "nbformat": 4,
 "nbformat_minor": 5
}
