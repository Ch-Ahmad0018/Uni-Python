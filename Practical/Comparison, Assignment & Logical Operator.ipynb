{
 "cells": [
  {
   "cell_type": "code",
   "execution_count": 10,
   "id": "b4041648",
   "metadata": {},
   "outputs": [
    {
     "name": "stdout",
     "output_type": "stream",
     "text": [
      "Result is False\n",
      "Result is True\n",
      "Result is True\n",
      "Result is False\n",
      "Result is True\n",
      "Result is False\n"
     ]
    }
   ],
   "source": [
    "#comparison operator \n",
    "a = 10\n",
    "b = 25\n",
    "#equal to\n",
    "\n",
    "print(\"Result is\", a == b)\n",
    "print(\"Result is\", a != b)\n",
    "print(\"Result is\", a < b)\n",
    "print(\"Result is\", a > b)\n",
    "print(\"Result is\", a <= b)\n",
    "print(\"Result is\", a >= b)"
   ]
  },
  {
   "cell_type": "code",
   "execution_count": 23,
   "id": "64611c2d",
   "metadata": {},
   "outputs": [
    {
     "name": "stdout",
     "output_type": "stream",
     "text": [
      "add and assign 8\n",
      "sub and assign 6\n",
      "division and assign 2\n",
      "multiply and assign 14\n",
      "modulus and assign 0\n"
     ]
    }
   ],
   "source": [
    "#assignment operators \n",
    "x = 5\n",
    "#add and assign\n",
    "x += 3 #equivalent to x= x+3\n",
    "print(\"add and assign\", x)\n",
    "\n",
    "#subtraction and assign\n",
    "#now x=8\n",
    "x -= 2 ##equivalent to x= x-2\n",
    "print(\"sub and assign\", x)\n",
    "#integar division and assign \n",
    "#now x= 6\n",
    "x //= 3 #equivalent to x = x//3\n",
    "print(\"division and assign\", x)\n",
    "#multiplication and assign \n",
    "#now x= 2\n",
    "x *= 7 #equivalent to x = x * 7\n",
    "print(\"multiply and assign\", x)\n",
    "#modulus and assign \n",
    "#now x= 14\n",
    "x %= 14 #equavelent to x = x % 14\n",
    "print(\"modulus and assign\", x)"
   ]
  },
  {
   "cell_type": "code",
   "execution_count": 24,
   "id": "a964ed02",
   "metadata": {},
   "outputs": [
    {
     "name": "stdout",
     "output_type": "stream",
     "text": [
      "Logical AND: False\n",
      "Logical OR: True\n"
     ]
    }
   ],
   "source": [
    "# Logical AND and OR operators\n",
    "p = True\n",
    "q = False\n",
    "\n",
    "# Logical AND\n",
    "and_result = p and q\n",
    "print(\"Logical AND:\", and_result)\n",
    "\n",
    "# Logical OR\n",
    "or_result = p or q\n",
    "print(\"Logical OR:\", or_result)"
   ]
  },
  {
   "cell_type": "code",
   "execution_count": null,
   "id": "c03460cc",
   "metadata": {},
   "outputs": [],
   "source": []
  }
 ],
 "metadata": {
  "kernelspec": {
   "display_name": "Python 3 (ipykernel)",
   "language": "python",
   "name": "python3"
  },
  "language_info": {
   "codemirror_mode": {
    "name": "ipython",
    "version": 3
   },
   "file_extension": ".py",
   "mimetype": "text/x-python",
   "name": "python",
   "nbconvert_exporter": "python",
   "pygments_lexer": "ipython3",
   "version": "3.11.5"
  }
 },
 "nbformat": 4,
 "nbformat_minor": 5
}
